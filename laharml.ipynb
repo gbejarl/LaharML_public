{
 "cells": [
  {
   "cell_type": "code",
   "execution_count": 4,
   "metadata": {},
   "outputs": [],
   "source": [
    "from laharml_setup_iris import setup_iris\n",
    "from laharml_getrecord_iris import getrecord_iris"
   ]
  },
  {
   "cell_type": "code",
   "execution_count": 5,
   "metadata": {},
   "outputs": [],
   "source": [
    "# Set FDSN client parameters\n",
    "client_id = 'IRIS'\n",
    "username = 'gbejarlo@mtu.edu'\n",
    "token = 'GiHPgTRUXbvde2l0'\n",
    "\n",
    "# Set interval for search\n",
    "start_time = '2022-06-06T00:00:00'\n",
    "end_time = '2022-06-08T00:00:00'\n",
    "\n",
    "# Set model name\n",
    "model_name = 'FuegoExample'\n",
    "\n",
    "# Set station parameters\n",
    "network = '6Q'\n",
    "station = 'FEC1'\n",
    "location = ''\n",
    "channel = 'HHZ'\n",
    "\n",
    "# Load files with lahar events and noise events\n",
    "list_of_lahars = 'events_lahar.csv'\n",
    "list_of_noise = 'events_noise.csv'\n",
    "\n",
    "# Set model parameters\n",
    "features = [4, 6, 34, 39, 44]\n",
    "window_length = 10  # [required] in minutes\n",
    "window_overlap = 0.75  # [required] in fraction of window length\n",
    "\n",
    "# Set other classifier parameters\n",
    "remove_response = True  # Remove instrument response\n",
    "decimation_factor = 4  # Decimate seismic data by this factor\n",
    "minimum_frequency = None  # High-pass filter above this frequency (in Hz)\n",
    "maximum_frequency = None  # Low-pass filter above this frequency (in Hz)\n",
    "minimum_lahar_duration = 30  # Filter out smaller events (in minutes)"
   ]
  },
  {
   "cell_type": "code",
   "execution_count": 3,
   "metadata": {},
   "outputs": [
    {
     "name": "stdout",
     "output_type": "stream",
     "text": [
      "Training lahar event 1 of 4 requested.\n",
      "Training lahar event 2 of 4 requested.\n",
      "Training lahar event 3 of 4 requested.\n",
      "Training lahar event 4 of 4 requested.\n",
      "---\n",
      "Training noise signal 1 of 5 requested.\n",
      "Training noise signal 2 of 5 requested.\n",
      "Training noise signal 3 of 5 requested.\n",
      "Training noise signal 4 of 5 requested.\n",
      "Training noise signal 5 of 5 requested.\n",
      "---\n",
      "Preprocessed routine in lahar training data done.\n",
      "---\n",
      "Preprocessed routine in noise training data done.\n",
      "---\n",
      "Samples extracted for lahar 1 of 4.\n",
      "Samples extracted for lahar 2 of 4.\n",
      "Samples extracted for lahar 3 of 4.\n",
      "Samples extracted for lahar 4 of 4.\n",
      "---\n",
      "Samples extracted for noise 1 of 5.\n",
      "Samples extracted for noise 2 of 5.\n",
      "Samples extracted for noise 3 of 5.\n",
      "Samples extracted for noise 4 of 5.\n",
      "Samples extracted for noise 5 of 5.\n",
      "---\n"
     ]
    },
    {
     "data": {
      "image/png": "[encoded data removed]",
      "text/plain": [
       "<Figure size 500x300 with 1 Axes>"
      ]
     },
     "metadata": {},
     "output_type": "display_data"
    },
    {
     "name": "stdout",
     "output_type": "stream",
     "text": [
      "Training-testing complete.\n",
      "---\n"
     ]
    }
   ],
   "source": [
    "setup_iris(client_id,\n",
    "           username,\n",
    "           token,\n",
    "           model_name,\n",
    "           network,\n",
    "           station,\n",
    "           location,\n",
    "           channel,\n",
    "           list_of_lahars,\n",
    "           list_of_noise,\n",
    "           features,\n",
    "           window_length,\n",
    "           window_overlap,\n",
    "           remove_response,\n",
    "           decimation_factor,\n",
    "           minimum_frequency,\n",
    "           maximum_frequency,\n",
    "           minimum_lahar_duration)"
   ]
  },
  {
   "cell_type": "code",
   "execution_count": 6,
   "metadata": {},
   "outputs": [
    {
     "name": "stdout",
     "output_type": "stream",
     "text": [
      "Starting 2022-06-06T00:00:00\n",
      "Waveform requested.\n",
      "Preprocessed routine in lahar training data done.\n",
      "Samples extracted.\n",
      "Predictions generated.\n",
      "Results cleaned.\n",
      "Dates retrieved.\n",
      "Detections found in iteration = 3\n",
      "Total detections found = 3\n",
      "---\n",
      "Starting 2022-06-06T12:00:00\n",
      "Waveform requested.\n",
      "Preprocessed routine in lahar training data done.\n",
      "Samples extracted.\n",
      "Predictions generated.\n",
      "Results cleaned.\n",
      "Dates retrieved.\n",
      "Detections found in iteration = 1\n",
      "Total detections found = 4\n",
      "---\n",
      "Starting 2022-06-07T00:00:00\n",
      "Waveform requested.\n",
      "Preprocessed routine in lahar training data done.\n",
      "Samples extracted.\n",
      "Predictions generated.\n",
      "Results cleaned.\n",
      "Dates retrieved.\n",
      "Detections found in iteration = 0\n",
      "Total detections found = 4\n",
      "---\n",
      "Starting 2022-06-07T12:00:00\n",
      "Waveform requested.\n",
      "Preprocessed routine in lahar training data done.\n",
      "Samples extracted.\n",
      "Predictions generated.\n",
      "Results cleaned.\n",
      "Dates retrieved.\n",
      "Detections found in iteration = 1\n",
      "Total detections found = 5\n",
      "---\n",
      "Detections saved.\n"
     ]
    }
   ],
   "source": [
    "getrecord_iris(model_name,\n",
    "               start_time,\n",
    "               end_time,\n",
    "               username,\n",
    "               token)"
   ]
  },
  {
   "cell_type": "code",
   "execution_count": null,
   "metadata": {},
   "outputs": [],
   "source": []
  }
 ],
 "metadata": {
  "kernelspec": {
   "display_name": "seismic",
   "language": "python",
   "name": "python3"
  },
  "language_info": {
   "codemirror_mode": {
    "name": "ipython",
    "version": 3
   },
   "file_extension": ".py",
   "mimetype": "text/x-python",
   "name": "python",
   "nbconvert_exporter": "python",
   "pygments_lexer": "ipython3",
   "version": "3.10.9"
  }
 },
 "nbformat": 4,
 "nbformat_minor": 2
}
